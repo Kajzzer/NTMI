{
 "cells": [
  {
   "cell_type": "markdown",
   "metadata": {},
   "source": [
    "**Table of contents**\n",
    "\n",
    "* [Probability Theory](#probability-theory)\n",
    "    * [Sample spaces and events](#sample-spaces-and-events)\n",
    "    * [Probability measure](#probability-measure) \n",
    "    * [Joint probability, conditional probability, and independence](#joint-conditional-independence)\n",
    "    * [Random variable](#random-variable)\n",
    "    * [Probability distribution](#probability-distribution)\n",
    "* [Important Distributions](#important-distributions)\n",
    "    * [Uniform distribution](#uniform)\n",
    "    * [Bernoulli distribution](#bernoulli)\n",
    "    * [Categorical distribution](#categorical)\n",
    "* [Representation and Maximum Likelihood Estimation](#representation)\n",
    "    \n",
    "    \n",
    "**Table of Exercises**\n",
    "\n",
    "* [Exercise 2-1](#ex2-1) (-/1)\n",
    "* [Exercise 2-2](#ex2-2) (-/3)\n",
    "* [Exercise 2-3](#ex2-3) (-/3)\n",
    "* [Exercise 2-4](#ex2-4) (-/1)\n",
    "* [Exercise 2-5](#ex2-5) (-/1)\n",
    "* [Exercise 2-6](#ex2-6) (-/1)\n",
    "* [Exercise 2-7](#ex2-7) (-/1)\n",
    "* [Exercise 2-8](#ex2-8) (-/1)\n",
    "* [Exercise 2-9](#ex2-9) (-/3)\n",
    "* [Exercise 2-10](#ex2-10) (-/8)\n",
    "\n",
    "\n",
    "**General notes**\n",
    "\n",
    "After completing this lab you should be able to \n",
    "\n",
    "* implement discrete probability distributions and estimate their parameters via maximum likelihood estimation\n",
    "* read and write mathematical notation\n",
    "\n",
    "Guidelines for notation\n",
    "\n",
    "* In this notebook you are expected to use $\\LaTeX$ for typesetting mathematical expressions, if you are not familiar with it check our own examples, they illustrate all commands you will need. If you need additional documentation try searching for it on Google, lots of people contribute answer to latex-related questions. A good starting point is [LaTeX/Mathematics](https://en.wikibooks.org/wiki/LaTeX/Mathematics) and for [equations](https://www.codecogs.com/latex/eqneditor.php).\n",
    "* I am very picky with notation, so make an effor to respect conventions and to typeset clear unambiguous mathematical expressions. For example, if I use $\\mathbb P$ to denote a measure, there is a reason for it, thus make sure to use `\\mathbb P` or you will not get the correct type of font. "
   ]
  },
  {
   "cell_type": "markdown",
   "metadata": {},
   "source": [
    "# <a name=\"probability-theory\"> Probability Theory\n",
    "\n",
    "Here we provide a very *lightweight*, and rather *informal*, review of some concepts from probability theory and statistical estimation that are relevant to this course. For a more complete take on probability theory, and with a *proper formal treatment*, check this [excellent course](https://github.com/BasicProbability) out.\n",
    "\n",
    "Probability refers to a *subjective degree of confidence* (or *belief*) that an event of a certain nature will occur. For example, a weather report might say that there is a low probability of rain in the afternoon. In other words, the event of raining *might occur*. Probability theory deals with the formal foundations of how uncertainty can be quantified. \n",
    "\n",
    "\n"
   ]
  },
  {
   "cell_type": "markdown",
   "metadata": {},
   "source": [
    "## <a name=\"sample-spaces-and-events\"> Sample spaces and events\n",
    "\n",
    "Probability theory is about assigning probability values to elements of a **sample space**. \n",
    "\n",
    "We use $\\Omega$ to denote the space, and $\\omega \\in \\Omega$ to denote members of that space. Members are usually  called **outcomes** or **samples**. \n",
    "\n",
    "Example of sample spaces:\n",
    "\n",
    "* in a toss coin the coin can land showing `heads` (H) or `tails` (T), thus $\\Omega = \\{H, T\\}$;\n",
    "* throwing a 6-sided die can yield an integer from 1 (included) to 6 (included), thus $\\Omega = \\{1,2,3,4,5,6\\}$\n",
    "* throwing a [10-sided die](https://en.wikipedia.org/wiki/Pentagonal_trapezohedron) followed by a 6-sided die yields pairs of numbers where the first number ranges from 1 (included) to 10 (included) and the second number ranges from 1 to 6, thus $\\Omega = \\{1, 2, 3, 4, 5, 6, 7, 8, 10\\} \\times \\{1, 2, 3, 4, 5, 6\\}$\n",
    "    * note that here we used a shortcut, the [cartesian product](https://en.wikipedia.org/wiki/Cartesian_product) denoted by $\\times$\n",
    "    * it's okay to use it, just keep in mind what it means: the cartesian product above is the set $\\{(1, 2), (1, 3), (1, 4), (1, 4), (1, 6), (2, 1), \\ldots, (10, 1), (10, 2), (10, 3), (10, 4), (10, 5), (10, 6) \\}$\n",
    "\n"
   ]
  },
  {
   "cell_type": "markdown",
   "metadata": {},
   "source": [
    "<a name=\"ex2-1\" style=\"color:red\">**Exercise 2-1**</a> **[1 point]** What is the sample space associated with the [standard 52-playincard deck](https://en.wikipedia.org/wiki/Standard_52-card_deck)? Use $\\clubsuit, \\diamondsuit, \\heartsuit, \\spadesuit$ for the suits."
   ]
  },
  {
   "cell_type": "markdown",
   "metadata": {},
   "source": [
    "$\\Omega = \\{\\clubsuit, \\diamondsuit, \\heartsuit, \\spadesuit\\} \\times \\{2, 3, 4, 5, 6, 7, 8, 9, 10, J, Q, K, A\\}$"
   ]
  },
  {
   "cell_type": "markdown",
   "metadata": {},
   "source": [
    "\n",
    "---"
   ]
  },
  {
   "cell_type": "markdown",
   "metadata": {},
   "source": [
    "In a sample spaces we enumerate individual outcomes of some random experiment. However, we often care more about properties of these outcomes rather than the outcomes themselves. For example, we may be interested in whether the outcome of a die roll is an even number. We call that an **event**, where an event is any subset of the sample space. That is, if we use $A$ to denote the event, then $A \\subseteq \\Omega$.\n",
    "\n",
    "Example of events:\n",
    "\n",
    "* toss a coin and get heads: $\\{H\\}$;\n",
    "* roll a die and get 1: $\\{1\\}$;\n",
    "* roll a die and get an even number: $\\{2, 4, 6\\}$;\n",
    "* roll a die and get an even number bigger than 2: $\\{4, 6\\}$;"
   ]
  },
  {
   "cell_type": "markdown",
   "metadata": {},
   "source": [
    "<a name=\"ex2-2\" style=\"color:red\">**Exercise 2-2**</a> **[3 points]** Represent the following events for the 52-card sample space of [Exercise 2-1](#ex2-1)?\n",
    "\n",
    "1. pick an `A` of $\\diamondsuit$: $\\{(\\diamondsuit, A)\\}$\n",
    "2. pick an `A`: $\\{(\\diamondsuit, A),(\\clubsuit, A), (\\heartsuit, A), (\\spadesuit, A)\\}$\n",
    "3. pick a $\\diamondsuit$: $\\{(\\diamondsuit, 2), (\\diamondsuit, 3), (\\diamondsuit, 4), (\\diamondsuit, 5), (\\diamondsuit, 6), (\\diamondsuit, 7), (\\diamondsuit, 8), (\\diamondsuit, 9), (\\diamondsuit, 10), (\\diamondsuit, J), (\\diamondsuit, Q), (\\diamondsuit, K), (\\diamondsuit, A)\\}$\n",
    "\n"
   ]
  },
  {
   "cell_type": "markdown",
   "metadata": {},
   "source": [
    "\n",
    "---"
   ]
  },
  {
   "cell_type": "markdown",
   "metadata": {},
   "source": [
    "We can now define the notion of **event space**. There are some formal properties that event spaces must hold, we will not discuss them here. Instead we will always just assume that for a given sample space $\\Omega$, a convenient event space $\\mathcal A$ always exists. That 'convenient' event space typically is the *powerset* of the sample space, denoted $\\mathcal P(\\Omega)$. The [powerset](https://en.wikipedia.org/wiki/Power_set) of $\\Omega$ is the set of all subsets of $\\Omega$, which therefore includes the emptyset $\\emptyset$ and $\\Omega$ itself. \n"
   ]
  },
  {
   "cell_type": "markdown",
   "metadata": {},
   "source": [
    "## <a name=\"probability-measure\"> Probability measure\n",
    "\n",
    "In mathematics, a *measure* is a function that maps elements from a set of sets (such as events in a event space) to real numbers and for which some formal properties hold. We will not survey measure theory, but we will pay particular attention to one important measure, namely, the **probability measure**.\n",
    "\n",
    "Let $(\\Omega, \\mathcal A)$ denote a sample space and an event space, and let $A \\in \\mathcal A$ denote an event, then a probability measure $\\mathbb P: \\mathcal A \\rightarrow \\mathbb R$ takes elements in the event space and maps them to a real number (a *probability value*) and is such that:\n",
    "\n",
    "\\begin{align}\n",
    "(1) \\quad\\quad &  \\mathbb P(A) \\ge 0  \\text{ for all } $A \\in \\mathcal A & \\\\\n",
    "(2) \\quad\\quad & \\mathbb P \\left( \\bigcup_{i=1}^k = \\sum_{i=1}^k \\mathbb P(A_i) \\right) & \\text{for disjoint events } A_1, A_2, \\ldots, A_k \\\\\n",
    "(3) \\quad\\quad & \\mathbb P(\\Omega) = 1 & \n",
    "\\end{align}\n",
    "\n",
    "Let's digest this. \n",
    "* Property (1) means that the smallest probability value atainable by any event is 0. \n",
    "* Property (2) means that the total probability assigned to $k$ [disjoint events](https://en.wikipedia.org/wiki/Disjoint_sets) is the sum of the probability values assigned to each of the $k$ events independently. \n",
    "* And finally, property (3) means that if we consider the event which is the set of all possible outcomes, we have a total probability value of 1. \n"
   ]
  },
  {
   "cell_type": "markdown",
   "metadata": {},
   "source": [
    "\n",
    "Let's diggest this some more, this time with an example. Suppose we are throwing a dice. The sample space is $\\Omega = \\{1, 2, 3, 4, 5, 6\\}$. There are many events we can be interested in, for example:\n",
    "\n",
    "* `getting 1` represented by the set $\\{1\\}$;\n",
    "* `getting 2` represented by the set $\\{2\\}$;\n",
    "* `getting either 1 or 2` represented by the set $\\{1, 2\\}$\n",
    "* `getting an odd number` represented by the set $\\{1, 3, 5\\}$\n",
    "* `getting more than 2` represented by the set $\\{3, 4, 5, 6\\}$\n",
    "* `getting whatever` represented by the set $\\{1, 2, 3, 4, 5, 6\\}$ (note that this is exactly equivalent to the complete sample space $\\Omega$)\n",
    "\n",
    "There are so many things about this sample space that we may be interested in, that we just assume we may potentially be interested in any event in $\\mathcal P(\\Omega)$.\n",
    "\n",
    "* Property (1) implies that the smaller probability value assigned to any single event in the event space is 0.\n",
    "* Property (2) implies that if we take disjoint events such as $\\{1\\}$ (`getting 1`) and $\\{2\\}$ (`getting 2`), the total probability value assigned to the union is the sum of probability values, that is, $\\mathbb P(\\{1, 2\\}) = \\mathbb P(\\{1\\}) + \\mathbb P(\\{2\\})$.\n",
    "* Property (3) implies that the event $\\Omega$ (`whatever`) has probability 1. This is the famous informal rule that says *probabilities must add up to 1*.\n",
    "\n"
   ]
  },
  {
   "cell_type": "markdown",
   "metadata": {},
   "source": [
    "It may not look obvious at first, but from properties 1 to 3 we can conclude that:\n",
    "\n",
    "\\begin{align}\n",
    "(4) \\quad\\quad & \\mathbb P(\\emptyset) = 0 & \\\\\n",
    "(5) \\quad\\quad & \\mathbb P(A \\cup B) = \\mathbb P(A) + \\mathbb P(B) - \\mathbb P(A \\cap B) & \\text{for events } A, B \\in \\mathcal A\\\\\n",
    "(6) \\quad\\quad & \\mathbb P(\\Omega \\setminus A) = 1 - \\mathbb P(A) & \\text{for an event } A \\in \\mathcal A\n",
    "\\end{align}\n",
    "\n",
    "Let's digest these ones now. \n",
    "\n",
    "* Property (4) states that the *empty event* has 0 probability: this is to say that if we observe a random experiment something will happen (there is no chance that nothing will happen).\n",
    "* Property (5) is a generalisation of property (2) which does not require *disjoint* events. Also, it generalises trivially to more than 2 events. \n",
    "* Property (6) is also called the *complement rule*. For example, the probability of `not getting 2` is $\\mathbb P(\\{1, 3, 4, 5, 6\\})$ which is the same as 1 minus the probability of `getting 2`, that is, $1 - \\mathbb P(\\{2\\})$.\n",
    "\n",
    "\n",
    "We now define the concept of a **probability space**. A probability space is a triple $(\\Omega, \\mathcal A, \\mathbb P)$ consisting of a sample space $\\Omega$, an event space $\\mathcal A$, and a probability measure $\\mathbb P$."
   ]
  },
  {
   "cell_type": "markdown",
   "metadata": {},
   "source": [
    "<a name=\"ex2-3\" style=\"color:red\">**Exercise 2-3**</a> **[3 points]** For the probability space $(\\Omega, \\mathcal P(\\Omega), \\mathbb P)$ where $\\Omega$ is the sample space of Exercise 2-1 (52-card deck), give an expression for the probability of picking a card that complies with the following cases (use the complement rule whenever possible and make sure you provide representations for every event present in the expression):\n",
    "\n",
    "1. Not an `A`: $\\mathbb P(\\Omega \\setminus A) = 1 - \\mathbb P(A) = 1 - (\\mathbb P((\\diamondsuit, A)) + \\mathbb P((\\heartsuit, A)) + \\mathbb P((\\clubsuit, A)) + \\mathbb P((\\spadesuit, A))) = 1 - \\mathbb P((\\diamondsuit, A)) - \\mathbb P((\\heartsuit, A)) - \\mathbb P((\\clubsuit, A)) - \\mathbb P((\\spadesuit, A))$\n",
    "2. Not a $\\heartsuit$: $\\mathbb P(\\Omega \\setminus \\heartsuit) = 1 - \\mathbb P(\\heartsuit) = 1 - \\mathbb P((\\heartsuit, 2)) - \\mathbb P((\\heartsuit, 3)) - \\mathbb P((\\heartsuit, 4)) - \\mathbb P((\\heartsuit, 5)) - \\mathbb P((\\heartsuit, 6)) - \\mathbb P((\\heartsuit, 7)) - \\mathbb P((\\heartsuit, 8)) - \\mathbb P((\\heartsuit, 9)) - \\mathbb P((\\heartsuit, 10)) - \\mathbb P((\\heartsuit, J)) - \\mathbb P((\\heartsuit, Q)) - \\mathbb P((\\heartsuit, K)) - \\mathbb P((\\heartsuit, A))$\n",
    "3. Neither an `A` nor a $\\heartsuit$:  $\\mathbb P(\\Omega \\setminus (A \\cup \\heartsuit)) = 1 - (\\mathbb P(A) + \\mathbb P(\\heartsuit) - \\mathbb P((A, \\heartsuit))) = 1 - \\mathbb P((\\heartsuit, 2)) - \\mathbb P((\\heartsuit, 3)) - \\mathbb P((\\heartsuit, 4)) - \\mathbb P((\\heartsuit, 5)) - \\mathbb P((\\heartsuit, 6)) - \\mathbb P((\\heartsuit, 7)) - \\mathbb P((\\heartsuit, 8)) - \\mathbb P((\\heartsuit, 9)) - \\mathbb P((\\heartsuit, 10)) - \\mathbb P((\\heartsuit, J)) - \\mathbb P((\\heartsuit, Q)) - \\mathbb P((\\heartsuit, K)) - \\mathbb P((\\heartsuit, A)) - \\mathbb P((\\diamondsuit, A)) - \\mathbb P((\\clubsuit, A)) - \\mathbb P((\\spadesuit, A))$\n",
    "\n"
   ]
  },
  {
   "cell_type": "markdown",
   "metadata": {},
   "source": [
    "\n",
    "\n",
    "\n",
    "---"
   ]
  },
  {
   "cell_type": "markdown",
   "metadata": {},
   "source": [
    "## <a name=\"joint-conditional-independence\"> Joint probability, conditional probability, and independence \n",
    "\n",
    "An important concept is that of **joint probability**, which concerns the probability of the intersection of events. We denote joint probability between two events $A, B$ by $\\mathbb P(A \\cap B)$ or equivalently $\\mathbb P(A, B)$ --- where the order of enumeration is arbitrary.\n",
    "\n",
    "We can find the joint probability by using the elementary properties above involving union and complements. For that we will need [De Morgan's law](https://en.wikipedia.org/wiki/De_Morgan's_laws).\n",
    "\n"
   ]
  },
  {
   "cell_type": "markdown",
   "metadata": {},
   "source": [
    "<a name=\"ex2-4\" style=\"color:red\">**Exercise 2-4**</a> **[1 point]** Give an expression for the joint probability $\\mathbb P(A \\cap B)$ in terms of union and complements by applying De Morgan's law. You may use one or more of the properties (1) to (6).\n",
    "\n",
    "$\\mathbb P(A \\cap B) = \\mathbb P(\\Omega \\setminus (\\mathbb P(\\Omega \\setminus A) \\cup \\mathbb P(\\Omega \\setminus B)))$"
   ]
  },
  {
   "cell_type": "markdown",
   "metadata": {},
   "source": [
    "\n",
    "\n",
    "\n",
    "---"
   ]
  },
  {
   "cell_type": "markdown",
   "metadata": {},
   "source": [
    "Joint probability help us define the concept of **conditional probability**. The probability of an event $A$ conditioned on event $B$ having happened with $\\mathbb P(B) > 0$ is defined as: \n",
    "\n",
    "\\begin{equation}\n",
    "    (7) \\quad\\quad \\mathbb P(A|B) = \\frac{\\mathbb P(A \\cap B)}{\\mathbb P(B)}\n",
    "\\end{equation}\n",
    "\n",
    "The interpretation of conditional probabilities is that they are the probabilities of events assuming that another event has already occurred.\n",
    "\n",
    "If the occurence of event $A$ has no influence on event $B$ (and thus necessarily also vice verca) $A$ and $B$ are said to be **independent** events, denoted by $A \\perp B$. For independent events it holds that:\n",
    "\n",
    "\\begin{equation}\n",
    "    (8) \\quad\\quad \\mathbb P(A | B) = \\mathbb P(A)\n",
    "\\end{equation}\n",
    "\n",
    "With (7) and (8) we conclude that for *independent* events:\n",
    "\n",
    "\\begin{equation}\n",
    "    (9) \\quad\\quad \\mathbb P(A \\cap B) = \\mathbb P(A) \\times \\mathbb P(B)\n",
    "\\end{equation}\n"
   ]
  },
  {
   "cell_type": "markdown",
   "metadata": {},
   "source": [
    "<a name=\"ex2-5\" style=\"color:red\">**Exercise 2-5**</a> **[1 point]** Prove property (9) using property (7) and (8).\n",
    "\n",
    "\\begin{equation}\n",
    "     \\quad\\quad \\mathbb P(A | B) = \\mathbb P(A)\n",
    "\\end{equation}\n",
    "\n",
    "\\begin{equation}\n",
    "      \\quad\\quad \\mathbb P(A|B) = \\frac{\\mathbb P(A \\cap B)}{\\mathbb P(B)}\n",
    "\\end{equation}\n",
    "\n",
    "\\begin{equation}\n",
    "      \\quad\\quad \\frac{\\mathbb P(A \\cap B)}{\\mathbb P(B)} = \\mathbb P(A)\n",
    "\\end{equation}\n",
    "\n",
    "\\begin{equation}\n",
    "     \\quad\\quad \\frac{\\mathbb P(A \\cap B)}{\\mathbb P(B)} \\times \\mathbb P(B) = \\mathbb P(A) \\times \\mathbb P(B)\n",
    "\\end{equation}\n",
    "\n",
    "\\begin{equation}\n",
    "     \\quad\\quad \\mathbb P(A \\cap B) = \\mathbb P(A) \\times \\mathbb P(B)\n",
    "\\end{equation}"
   ]
  },
  {
   "cell_type": "markdown",
   "metadata": {},
   "source": [
    "\n",
    "\n",
    "---"
   ]
  },
  {
   "cell_type": "markdown",
   "metadata": {},
   "source": [
    "## <a name=\"random-variable\"> Random variable\n",
    "\n",
    "In general, we perform random experiments to investigate particular properties of outcomes. \n",
    "We will consider an example from [Schulz and Schaffner (2016)](https://github.com/BasicProbability):\n",
    "\n",
    "\n",
    "> Like most people living in the north of Europe, your choice of clothing probably depends strongly on the weather. Let us assume that you have a thick winter jacket that you put on when it is cold, a light soft-shell jacket that you wear when temperatures are mild and that you simply wear a T-shirt or a sweater when it is warm. Let us also assume that the forecasting site you consult every morning reports the temperatures up to one decimal. The question is: does it matter to you whether it is 5.4 or 7.3 degrees centigrade outside when you make your decision about what to wear? Most likely you are only interested in whether it is cold, mild or warm. This may obviously vary according to your own perception of warmth and cold. Here we will assume that it is cold whenever the temperature is below 10 degrees, mild between 10 and 20 degrees (inclusive) and warm whenever the temperature rises above 20 degrees. So what you are really interested in, at least as far as clothing is concerned, is whether the temperature $t$ is $t < 10$ or $10 \\le t \\le 20$ or $t > 20$. What we are looking for is a way of transforming outcomes from the temperature scale into judgements of perceived temperature.\n",
    "\n",
    "\n",
    "A **random variable** $X$ on a probability space $(\\Omega, \\mathcal A, \\mathbb P)$ is a function $X: \\Omega \\rightarrow \\mathbb R$ that maps elements in the *sample space* to real numbers. Moreover we require that:\n",
    "\n",
    "(10) for all $r \\in \\mathbb R$, the set $A = \\{\\omega ~ |~ X(\\omega) \\leq r\\}$ is in the *event space* $\\mathcal A$\n",
    "* we read (10) as: $A$ is the set of all outcomes $\\omega \\in \\Omega$ which the function $X$ maps to a real number less or equal to $r$; and $A$ belongs to the event space, thus $A$ is an event;\n",
    "* the sample space is the *domain* of the random variable\n",
    "* the real line is the *co-domain* of the random variable \n",
    "* it's sometimes convenient to refer directly to the assignments that a random variable may take on, that is, the particular subset of real values that the random variable maps outcomes to (the *image* of the function). We call that set the random variable's **support** and we denote it by a caligraphic version of the letter used to denote the random variable itself. That is, we usually say:\n",
    "> a random variable $X$ takes on values in the set $\\mathcal X$\n",
    "\n",
    "By convention, we denote random variables with capital Roman letters such as $X$, $Y$, or $Z$.\n",
    "\n",
    "\n",
    "Example: let's define a random variable $X$ for the weather situation where temperature values $t$ are elements of our sample space.\n",
    "\n",
    "\\begin{equation}\n",
    "    X(t) = \n",
    "    \\begin{cases} \n",
    "      1 & t < 10 \\\\\n",
    "      2 & 10 \\le t \\le 20 \\\\\n",
    "      3 & t > 20\n",
    "    \\end{cases}\n",
    "\\end{equation}\n",
    "\n",
    "Note that even though the underlying sample space is not discrete, the random variable itself is because it buckets temperature values in 3 intervals. In other words its image is the finite set $\\mathcal X = \\{1, 2, 3\\}$. Also, note that we did not have to explicitly define a sample space, neither an event space (random variables are very handy!). \n",
    "\n",
    "**Assignment**: whenever a random variable $X$ takes on a particular value, we write $X=x$ using the corresponding lowercase letter as a generic value. This notation hides a lot of details, so let's look into it closely:\n",
    "* when we write an assignment $X=x$, we implicitly refer to the event $A = \\{\\omega ~| ~ X(\\omega) = x\\}$. Of course, all that respecting the conditions in (10), that is,  $\\omega \\in \\Omega$ and $A \\in \\mathcal A$\n"
   ]
  },
  {
   "cell_type": "code",
   "execution_count": 1,
   "metadata": {},
   "outputs": [
    {
     "data": {
      "image/png": "[encoded data removed]",
      "text/plain": [
       "<Figure size 432x288 with 1 Axes>"
      ]
     },
     "metadata": {},
     "output_type": "display_data"
    }
   ],
   "source": [
    "# Let us visualise the random variable X of the temperature example\n",
    "#  since RVs are functions, we can plot them\n",
    "%matplotlib inline\n",
    "import matplotlib.pyplot as plt\n",
    "\n",
    "plt.plot([-20, 9.99], [1, 1])\n",
    "plt.plot([10, 20], [2, 2])\n",
    "plt.plot([20.01, 50], [3, 3])\n",
    "plt.yticks([1, 2, 3], [1, 2, 3])\n",
    "plt.xlim(-20,50)\n",
    "plt.ylabel('X(t)')\n",
    "plt.xlabel('t (C)')\n",
    "_ = plt.legend(['cold', 'mild', 'warm'])"
   ]
  },
  {
   "cell_type": "markdown",
   "metadata": {},
   "source": [
    "<a name=\"ex2-6\" style=\"color:red\">**Exercise 2-6**</a> **[1 point]** Define a random variable that models the number of heads when we toss two coins. Hint: in this case start by defining a sample space. \n",
    "\n"
   ]
  },
  {
   "cell_type": "markdown",
   "metadata": {},
   "source": [
    "$\\Omega = \\{(H, H), (H, T), (T, H), (T, T)\\}$\n",
    "\n",
    "$\\mathcal X = \\{1, 2, 3\\}$\n",
    "\n",
    "\\begin{equation}\n",
    "    X(t) = \n",
    "    \\begin{cases} \n",
    "      1 & t \\le 0.25 \\\\\n",
    "      2 & 0.25 > t < 0.75 \\\\\n",
    "      3 & t \\ge 0.75\n",
    "    \\end{cases}\n",
    "\\end{equation}"
   ]
  },
  {
   "cell_type": "code",
   "execution_count": 2,
   "metadata": {},
   "outputs": [
    {
     "data": {
      "image/png": "[encoded data removed]",
      "text/plain": [
       "<Figure size 432x288 with 1 Axes>"
      ]
     },
     "metadata": {},
     "output_type": "display_data"
    }
   ],
   "source": [
    "# Let us visualise the random variable X of the temperature example\n",
    "#  since RVs are functions, we can plot them\n",
    "%matplotlib inline\n",
    "import matplotlib.pyplot as plt\n",
    "\n",
    "plt.plot([0, 0.25], [1, 1])\n",
    "plt.plot([0.26, 0.74], [2, 2])\n",
    "plt.plot([0.75, 1], [3, 3])\n",
    "plt.yticks([1, 2, 3], [1, 2, 3])\n",
    "plt.xlim(0,1)\n",
    "plt.ylabel('X(t)')\n",
    "plt.xlabel('t (C)')\n",
    "_ = plt.legend(['0 heads', '1 head', '2 heads'])"
   ]
  },
  {
   "cell_type": "markdown",
   "metadata": {},
   "source": [
    "\n",
    "---"
   ]
  },
  {
   "cell_type": "markdown",
   "metadata": {},
   "source": [
    "It is in general the case that for a random variable of interest there are multiple equivalent ways to define it, starting from the fact that it all depends on how we define the sample space. That's why sometime it's easier to define the random variable directly and leave the sample space *implicitly defined*. \n",
    "\n",
    "Note that so far we have discussed random variables that can take on discrete values, i.e. one out of $k$ possibilities, where $k$ is some finite number. We call these **discrete random variables**.\n"
   ]
  },
  {
   "cell_type": "markdown",
   "metadata": {},
   "source": [
    "## <a name=\"probability-distribution\"> Probability distribution\n",
    "\n",
    "The **discrete probability distribution** of a random variable $X$ is denoted by $P_X$ and is defined as the function\n",
    "\n",
    "\\begin{equation}\n",
    "    (11) \\quad\\quad P_X(X=x) \\triangleq \\mathbb P(\\{\\omega ~ | ~ X(\\omega) = x\\})\n",
    "\\end{equation}\n",
    "\n",
    "It is not at all unusual to drop one or both mentions to $X$, thus denoting the probability value by $P_X(x)$, $P(X=x)$, or $P(x)$. We do that whenever there is no risk of ambiguity.\n",
    "\n",
    "We call **probability mass function** (or *pmf*) the function\n",
    "\\begin{equation}\n",
    "    f(a) = P_X(X=a)\n",
    "\\end{equation}\n",
    "it simply returns the probability value of associated with $X=a$. \n"
   ]
  },
  {
   "cell_type": "markdown",
   "metadata": {},
   "source": [
    "<a name=\"ex2-7\" style=\"color:red\">**Exercise 2-7**</a> **[1 point]** If a discrete random variable $X$ takes on values in the set $\\mathcal X$, what's the result of the expression below and why?\n",
    "\n",
    "* $\\sum_{x \\in \\mathcal X} P_X(X=x)$\n",
    "\n",
    "The result of the expression is 1, because a discrete variable can only take a countable number of values. The sum of the probability of these values will add up to one if the variable is random."
   ]
  },
  {
   "cell_type": "markdown",
   "metadata": {},
   "source": [
    "\n",
    "\n",
    "---"
   ]
  },
  {
   "cell_type": "markdown",
   "metadata": {},
   "source": [
    "The **cumulative distribution function** (or *cdf*) is used when we are interested in assessing the probability of a range of values.\n",
    "\n",
    "The cdf of a distribution $P_X$ of the random variable $X$ is the function\n",
    "\n",
    "\\begin{align}\n",
    "F(a) &\\triangleq P(X \\le a) \\\\\n",
    "       &=  \\sum_{x \\le a} P_X(x)\n",
    "\\end{align}\n",
    "\n",
    "it returns the cumulative probability over the interval $(-\\infty, a]$.\n",
    "\n",
    "Note that it is trivial then to obtain the probability of $X$ falling in the interval $[a, b]$, we just compute $F(b) - F(a)$ for $b \\ge a$."
   ]
  },
  {
   "cell_type": "markdown",
   "metadata": {},
   "source": [
    "# <a name=\"important-distributions\"> Important Distributions\n",
    "\n",
    "Now we will illustrate some instances of discrete probability distributions\n",
    "\n",
    "## <a name=\"uniform\"> Uniform distribution\n",
    "\n",
    "The [Uniform distribution](https://en.wikipedia.org/wiki/Discrete_uniform_distribution) defined over $k$ outcomes is such that every outcome has the same probability. Because property (3) must always hold, it's obvious to see that each outcome has to have probability $\\frac{1}{k}$. We declare Uniform random variables as follows:\n",
    "\n",
    "\\begin{equation}\n",
    "    X \\sim \\text{Uniform}(k)\n",
    "\\end{equation}\n",
    "\n",
    "This is the math equivalent to: $X$ follows a **Uniform distribution** with **parameter** $k$ (number of outcomes)\n",
    "* a uniform random variable takes on values in the set $\\{1, ..., k\\}$\n",
    "* we call $k$ a *parameter* of the distribution because it helps specify it\n",
    "* we immediately know that $P(x) = \\frac{1}{k}$ for $x \\in \\{1, ..., k\\}$\n",
    "* it's not difficult to generalise the uniform distribution to take on values in any finite discrete interval $\\{a, a + 1, \\ldots, a + k\\}$\n",
    "\n",
    "Here is a visualisation of a uniform distribution over $k=5$ possible outcomes."
   ]
  },
  {
   "cell_type": "code",
   "execution_count": 3,
   "metadata": {},
   "outputs": [
    {
     "data": {
      "image/png": "[encoded data removed]",
      "text/plain": [
       "<Figure size 432x288 with 1 Axes>"
      ]
     },
     "metadata": {},
     "output_type": "display_data"
    }
   ],
   "source": [
    "%matplotlib inline\n",
    "import numpy as np\n",
    "import matplotlib.pyplot as plt\n",
    "k = 5\n",
    "_ = plt.bar(np.arange(1, k + 1), np.ones(k) / k)"
   ]
  },
  {
   "cell_type": "markdown",
   "metadata": {},
   "source": [
    "## <a name=\"bernoulli\"> Bernoulli distribution\n",
    "\n",
    "The [Bernoulli distribution](https://en.wikipedia.org/wiki/Bernoulli_distribution) is defined over exactly 2 outcomes (a *binary* event). By convention we say that the outcome is either 1 (*True* or *positive class*) or 0 (*False* or *negative class*). We fully specify the Bernoulli distribution by specifying the probability of the positive class. Then by the complement rule (6) we know that $P_X(0) = 1 - P_X(1)$. We declare Bernoulli random variables as follows:\n",
    "\n",
    "\\begin{equation}\n",
    "    X \\sim \\text{Bernoulli}(p)\n",
    "\\end{equation}\n",
    "\n",
    "This is the math equivalent to: $X$ follows a **Bernoulli distribution** with **parameter** $p$\n",
    "* a Bernoulli variable takes on values in the set $\\{0, 1\\}$\n",
    "* we call the probability of the positive class a *parameter* of the distribution because it helps specify it\n",
    "* the Bernoulli parameter is the probability of the positive class, and therefore, $0 \\le p \\le 1$ for it to be a valid distribution\n",
    "* we immediately know that $P_X(1) = p$ and $P_X(0) = 1 - p$\n",
    "\n",
    "Suppose a Bernoulli whose positive class probability is 0.7."
   ]
  },
  {
   "cell_type": "code",
   "execution_count": 4,
   "metadata": {},
   "outputs": [
    {
     "data": {
      "image/png": "[encoded data removed]",
      "text/plain": [
       "<Figure size 432x288 with 1 Axes>"
      ]
     },
     "metadata": {},
     "output_type": "display_data"
    }
   ],
   "source": [
    "p1 = 0.7\n",
    "plt.bar([0, 1], [1 - p1, p1])\n",
    "_ = plt.xticks([0, 1], ['False', 'True'])"
   ]
  },
  {
   "cell_type": "markdown",
   "metadata": {},
   "source": [
    "## <a name=\"categorical\"> Categorical distribution\n",
    "\n",
    "The [Categorical distribution](https://en.wikipedia.org/wiki/Categorical_distribution) defined over $k$ values can be used to represent the distribution of any discrete  random variable whose sample space is finite.  We declare  categorical random variables as follows:\n",
    "\n",
    "\\begin{equation}\n",
    "    X \\sim \\text{Categorical}(\\theta_1, \\ldots, \\theta_k)\n",
    "\\end{equation}\n",
    "\n",
    "This is the math equivalent to: $X$ follows a **Categorical distribution** with **parameters** $\\langle \\theta_1, \\ldots, \\theta_k \\rangle$\n",
    "* a Categorical variable takes on values in the finite set $\\{1, \\ldots, k\\}$;\n",
    "* we call the parameters of the categorical distribution *class probabilities*, these are probabilities associated with each outcome and they help us specify the distribution;\n",
    "* we sometimes abreviate the parameters $\\langle \\theta_1, \\ldots, \\theta_k \\rangle$ into $\\pmb \\theta$ which we call a *parameter vector* (often we drop the word *vector* and call it simply a *parameter*);\n",
    "* this $k$-dimensional vector $\\pmb \\theta$ is no ordinary vector, each one of its $k$ values must be a probability value and therefore $0 \\le \\theta_x \\le 1$ for every assignment $x \\in \\{1, \\ldots, k\\}$; moreover, to make a valid distribution, they must also obey $\\sum_{x=1}^k \\theta_x = 1$; a parameter vector that complies with such conditions is also called a *probability vector*;\n",
    "* we immediately know that $P_X(x) = \\theta_x$.\n",
    "\n",
    "\n",
    "Let's illustrate this with an example. Suppose we have a bag with 10 marbles where 3 of them are blue, 2 of them are red, and 5 of them are white. Then the probability that the first ball drawn at random is:\n",
    "* blue is 3/10 or 0.3\n",
    "* red is 2/10 or 0.2\n",
    "* white is 5/10 or 0.5\n",
    "We can design a random variable that models the color of the first ball drawn at random from the bag:\n",
    "\n",
    "\\begin{equation}\n",
    "    X(\\omega) = \n",
    "    \\begin{cases} \n",
    "      1 & \\omega = \\text{blue} \\\\\n",
    "      2 & \\omega = \\text{red}\\\\\n",
    "      3 & \\omega = \\text{white}\n",
    "    \\end{cases}\n",
    "\\end{equation}\n",
    "\n",
    "where we arbitrarily decided to map from colors to numbers in lexicographic order (note that we have to realise this mapping because the random variable assignments should be integers from 1 to $k$ with $k=3$ in this case)."
   ]
  },
  {
   "cell_type": "code",
   "execution_count": 5,
   "metadata": {},
   "outputs": [],
   "source": [
    "# This our sample space: we use a list (rather than a set) because we want it sorted\n",
    "sample_space = ['blue', 'red', 'white']\n",
    "# These are the values our random variable takes on \n",
    "rv_values = [1, 2, 3]\n",
    "# This is the mapping from sample space (colours) to numbers (assignments of X)\n",
    "rv_mapping = dict(zip(sample_space, rv_values))  # realises the mapping above\n",
    "# And these are the probabilities associated with each colour in the example\n",
    "probabilities = [0.3, 0.2, 0.5] "
   ]
  },
  {
   "cell_type": "code",
   "execution_count": 6,
   "metadata": {},
   "outputs": [
    {
     "name": "stdout",
     "output_type": "stream",
     "text": [
      "Sample space: ['blue', 'red', 'white']\n",
      "Mapping function: {'blue': 1, 'red': 2, 'white': 3}\n",
      " outcome 'blue' mapped to 1 has probability 0.30\n",
      " outcome 'red' mapped to 2 has probability 0.20\n",
      " outcome 'white' mapped to 3 has probability 0.50\n"
     ]
    }
   ],
   "source": [
    "# Let's visualise what we accomplished\n",
    "print('Sample space:', sample_space)\n",
    "print('Mapping function:', rv_mapping)\n",
    "for omega in sample_space:\n",
    "    x = rv_mapping[omega]\n",
    "    theta_x = probabilities[x - 1]  # we subtract 1 because random access to lists in Python is 0-based\n",
    "    print(\" outcome %r mapped to %d has probability %.2f\" % (omega, x, theta_x))      "
   ]
  },
  {
   "cell_type": "code",
   "execution_count": 7,
   "metadata": {},
   "outputs": [
    {
     "data": {
      "image/png": "[encoded data removed]",
      "text/plain": [
       "<Figure size 432x288 with 1 Axes>"
      ]
     },
     "metadata": {},
     "output_type": "display_data"
    }
   ],
   "source": [
    "# We can also plot our probability distribution, it's simply a bar plot\n",
    "#  each bar represents the probability of one of the classes\n",
    "plt.bar(rv_values, probabilities)\n",
    "# and we can label the ticks of the x-axis with the classes (colours) rather than the assignments (integers)\n",
    "_ = plt.xticks(rv_values, sample_space)"
   ]
  },
  {
   "cell_type": "markdown",
   "metadata": {},
   "source": [
    "## Rules of probability\n",
    "\n",
    "> From now on we will be a bit less formal about the whole sample space, event space, probability measure thing. We will specify our random variables by describing the sample space somewhat informally and we will assume an appropriate mapping exists. The point is that from now on we want to focus on manipulating probability distributions.\n",
    "\n",
    "A very important result of probability theory is called the **chain rule**\n",
    "\n",
    "\\begin{equation}\n",
    "(12) \\quad\\quad P(x, y) = P(x)P(y|x)\n",
    "\\end{equation}\n",
    "\n",
    "this rule relates the probability of the *joint assignment* $x$ and $y$ (left hand-side) to the *marginal* probability of $x$ (first term on the right-hand side), and the *conditional* probability of $y$ given $x$ (second probability on the rigth-hand side). \n",
    "\n",
    "This rule can be generalised to $n \\ge 2$ events and the particular order in which we enumerate them is arbitrary (the result does not depend on the order).\n",
    "\n",
    "\\begin{equation}\n",
    "(13) \\quad\\quad P(\\alpha_1, \\ldots, \\alpha_n) = P(\\alpha_1)\\prod_{i = 2}^n P(\\alpha_i|\\alpha_1, \\ldots, \\alpha_{i-1})\n",
    "\\end{equation}\n",
    "\n",
    "\n",
    "For a joint distribution over $X$ and $Y$, the **marginal probability** of an assignment $X=x$ is the result of considering the total probability associated with $X=x$ regardless of the assignment to $Y$:\n",
    "\n",
    "\\begin{equation}\n",
    "(14) \\quad\\quad P(X=x) = \\sum_{y} P(X=x, Y=y)\n",
    "\\end{equation}\n",
    "\n",
    "where the sum is over all values in the image of the random variable $Y$. \n",
    "\n",
    "\n",
    "Finally, another important rule shows us how to invert a conditional probability distribution, this is called the **Bayes rule**:\n",
    "\n",
    "\\begin{equation}\n",
    "(15) \\quad\\quad P(X=x|Y=y) = \\frac{P(Y=y|X=x)P(X=x)}{P(Y=y)}\n",
    "\\end{equation}\n",
    "\n",
    "This follows trivially from the definition of conditional probability and the chain rule. \n",
    "\n",
    "\n",
    "The next important concept to discuss is that of a random variable. \n",
    "\n"
   ]
  },
  {
   "cell_type": "markdown",
   "metadata": {},
   "source": [
    "<a name=\"ex2-8\" style=\"color:red\">**Exercise 2-8**</a> **[1 point]** Prove the *Bayes rule*\n",
    "\n",
    "If we look at the chain rule, from both perspectives, we get:\n",
    "\n",
    "\\begin{equation}\n",
    "\\quad\\quad P(X, Y) = P(X)P(Y|X)\n",
    "\\end{equation}\n",
    "\\begin{equation}\n",
    "\\quad\\quad P(X, Y) = P(Y)P(X|Y)\n",
    "\\end{equation}\n",
    "\n",
    "We can put these in one equation:\n",
    "\n",
    "\\begin{equation}\n",
    "\\quad\\quad P(X)P(Y|X) = P(Y)P(X|Y)\n",
    "\\end{equation}\n",
    "\n",
    "Now we can divide by P(X) or P(Y): \n",
    "\n",
    "\\begin{equation}\n",
    "\\quad\\quad P(Y|X) = \\frac{P(Y)P(X|Y)}{P(X)}\n",
    "\\end{equation}\n",
    "or\n",
    "\\begin{equation}\n",
    "\\quad\\quad P(X|Y) = \\frac{P(X)P(Y|X)}{P(Y)}\n",
    "\\end{equation}"
   ]
  },
  {
   "cell_type": "markdown",
   "metadata": {},
   "source": [
    "\n",
    "\n",
    "\n",
    "---"
   ]
  },
  {
   "cell_type": "markdown",
   "metadata": {},
   "source": [
    "\n",
    "\n"
   ]
  },
  {
   "cell_type": "markdown",
   "metadata": {},
   "source": [
    "# <a name=\"representation\"> Representation and Maximum Likelihood Estimation\n",
    "\n",
    "\n",
    "We can represent random variables in a computer by representing their distribution. Then we can *simulate/sample* values from that distribution. Here you will learn how to represent a Bernoulli variable and a Categorical variable as well as how to simulate them. \n",
    "\n",
    "Recall that a Bernoulli variables takes exactly 1 parameter to represent, whereas a Categorical over $k$ possible events, takes exactly $k$ values. \n",
    "\n",
    "\n",
    "**Bernoulli**: we will represent a bernoully variable by storing its Bernoulli parameter (a number between 0 and 1). \n"
   ]
  },
  {
   "cell_type": "code",
   "execution_count": 8,
   "metadata": {},
   "outputs": [],
   "source": [
    "import numpy as np\n",
    "\n",
    "class Bernoulli:\n",
    "    \n",
    "    def __init__(self, p):\n",
    "        \"\"\"\n",
    "            X ~ Bernoulli(p)\n",
    "            where p is the probability of the positive class\n",
    "        \"\"\"\n",
    "        if not (0 <= p <= 1):\n",
    "            raise ValueError('The Bernoulli parameter must be a probability')\n",
    "        self.p = p\n",
    "        \n",
    "    def sample(self):\n",
    "        \"\"\"Returns either 1 or 0 depending on a random simulation\"\"\"\n",
    "        # We rely on numpy's pseudo random number generator to obtain a number uniformly distributed\n",
    "        # between 0 and 1\n",
    "        u = np.random.uniform()\n",
    "        # The idea is to now transform this uniform simulation is such a way that with probability p\n",
    "        #  we get 1 and with probability (1-p) we get a 0\n",
    "        # For example, imagine p = 0.7 then we want to return 1 on average 70% of the times this \n",
    "        #  code is executed. \n",
    "        # Since `u` was uniformly generated, it did not bias any particular segment of the interval \n",
    "        #  between 0 and 1. Therefore if we take the first 70% of that interval to return 1, we \n",
    "        #  simulate the variable correctly. 70% of the interval between 0 and 1 can for example be represented\n",
    "        #  by the interval between 0 and 0.7 (the p parameter) \n",
    "        return 1 if u < self.p else 0\n",
    "    \n",
    "    def sample_n(self, N):\n",
    "        \"\"\"Returns an array of N samples\"\"\"\n",
    "        return np.array([self.sample() for _ in range(N)])\n",
    "    \n",
    "    def pmf(self, value):\n",
    "        \"\"\"\n",
    "        Probability mass function\n",
    "        value: an assignment of X\n",
    "        returns: probability value for X=value\n",
    "        \"\"\"\n",
    "        if value == 1:\n",
    "            return self.p\n",
    "        elif value == 0:\n",
    "            return 1. - self.p\n",
    "        else:\n",
    "            raise ValueError('Bernoully variables can only take on 1 or 0')\n",
    "            \n",
    "    def cdf(self, a):\n",
    "        \"\"\"\n",
    "        Cumulative probability function\n",
    "            F_X(a) = \\sum_{x <= a} P(X=x)\n",
    "        a: an assignment of X\n",
    "        returns: total probability over the interval [-inf, a]\n",
    "        \"\"\"\n",
    "        if a == 0:\n",
    "            return 1. - self.p\n",
    "        elif a == 1:\n",
    "            return 1.\n",
    "        else:\n",
    "            raise ValueError('Bernoully variables can only take on 0 or 1')\n",
    "            \n",
    "    def __repr__(self):\n",
    "        return 'Bernoulli(%s)' % self.p\n"
   ]
  },
  {
   "cell_type": "markdown",
   "metadata": {},
   "source": [
    "Now we can declare a Bernoulli random variable "
   ]
  },
  {
   "cell_type": "code",
   "execution_count": 9,
   "metadata": {},
   "outputs": [
    {
     "name": "stdout",
     "output_type": "stream",
     "text": [
      "X ~ Bernoulli(0.7)\n",
      " P(X=0) = 0.30 F_X(0) = 0.30\n",
      " P(X=1) = 0.70 F_X(1) = 1.00\n"
     ]
    }
   ],
   "source": [
    "X = Bernoulli(0.7)\n",
    "print('X ~', X)\n",
    "for x in range(2):\n",
    "    print(' P(X=%d) = %.2f F_X(%d) = %.2f' % (x, X.pmf(x), x, X.cdf(x)))"
   ]
  },
  {
   "cell_type": "markdown",
   "metadata": {},
   "source": [
    "Note that an rv does not give you a value (as normal variables in programming languages would), rvs give you a distribution from which you can sample an assignment."
   ]
  },
  {
   "cell_type": "code",
   "execution_count": 10,
   "metadata": {},
   "outputs": [
    {
     "name": "stdout",
     "output_type": "stream",
     "text": [
      "assignment 1 with probability 0.70\n",
      "assignment 0 with probability 0.30\n",
      "assignment 1 with probability 0.70\n",
      "assignment 1 with probability 0.70\n",
      "assignment 1 with probability 0.70\n",
      "assignment 1 with probability 0.70\n",
      "assignment 1 with probability 0.70\n",
      "assignment 1 with probability 0.70\n",
      "assignment 1 with probability 0.70\n",
      "assignment 1 with probability 0.70\n"
     ]
    }
   ],
   "source": [
    "for i in range(10):\n",
    "    x = X.sample()\n",
    "    print('assignment {} with probability {:.2f}'.format(x, X.pmf(x)) )"
   ]
  },
  {
   "cell_type": "markdown",
   "metadata": {},
   "source": [
    "We can answer some interesting questions about the distribution of a random variable once we get some dataset of observations. \n",
    "So let's get a dataset of `N=1000` Bernoulli variables:"
   ]
  },
  {
   "cell_type": "code",
   "execution_count": 11,
   "metadata": {},
   "outputs": [],
   "source": [
    "N = 1000\n",
    "bernoulli_observations = X.sample_n(N)"
   ]
  },
  {
   "cell_type": "markdown",
   "metadata": {},
   "source": [
    "We can easily plot our samples to get an idea of what we obtained:"
   ]
  },
  {
   "cell_type": "code",
   "execution_count": 12,
   "metadata": {},
   "outputs": [
    {
     "data": {
      "image/png": "[encoded data removed]",
      "text/plain": [
       "<Figure size 432x288 with 1 Axes>"
      ]
     },
     "metadata": {},
     "output_type": "display_data"
    }
   ],
   "source": [
    "%matplotlib inline\n",
    "import matplotlib.pyplot as plt\n",
    "_ = plt.hist(bernoulli_observations)"
   ]
  },
  {
   "cell_type": "markdown",
   "metadata": {},
   "source": [
    "It turns out the **maximum likelihood estimate** of the Bernoulli parameter is nothing but the ratio in which we observe $X=1$. We can do that rather easily simply by counting the number of 1s and dividing by the total size of the dataset. \n"
   ]
  },
  {
   "cell_type": "code",
   "execution_count": 13,
   "metadata": {},
   "outputs": [],
   "source": [
    "def bernoulli_mle(observations):\n",
    "    # this is the number of observations we have\n",
    "    N = len(observations)\n",
    "    count1 = observations.sum()\n",
    "    return float(count1) / N"
   ]
  },
  {
   "cell_type": "markdown",
   "metadata": {},
   "source": [
    "Now if we pretend we do not actually know the Bernoulli parameter, but we have Bernoulli observations, then we can derive a **parameter estimate** that is an educated guess as to what the underlying data generating process actually was."
   ]
  },
  {
   "cell_type": "code",
   "execution_count": 14,
   "metadata": {},
   "outputs": [
    {
     "data": {
      "text/plain": [
       "0.704"
      ]
     },
     "execution_count": 14,
     "metadata": {},
     "output_type": "execute_result"
    }
   ],
   "source": [
    "bernoulli_mle(bernoulli_observations)"
   ]
  },
  {
   "cell_type": "markdown",
   "metadata": {},
   "source": [
    "Note that we get something that's quite close to 0.7.\n",
    "\n",
    "That is only the case because we have enough observations. For example, consider estimating the Bernoulli parameter for few examples (as few as `N=10`), you will notice that your estimates are not going to always look good. "
   ]
  },
  {
   "cell_type": "code",
   "execution_count": 15,
   "metadata": {},
   "outputs": [
    {
     "name": "stdout",
     "output_type": "stream",
     "text": [
      "Attempt number 0: 0.5\n",
      "Attempt number 1: 0.6\n",
      "Attempt number 2: 0.7\n",
      "Attempt number 3: 0.7\n",
      "Attempt number 4: 0.9\n"
     ]
    }
   ],
   "source": [
    "nb_repetitions = 5\n",
    "for i in range(nb_repetitions):\n",
    "    print('Attempt number {}: {}'.format(i, bernoulli_mle(X.sample_n(10))))"
   ]
  },
  {
   "cell_type": "markdown",
   "metadata": {},
   "source": [
    "<a name=\"ex2-9\" style=\"color:red\">**Exercise 2-9**</a> **[3 points]** Compare maximum likelihood estimation for a Bernoulli variable using 1, 10, 100, and 1000 samples. In order to gather enough data, repeat each experiment 100 times. Summarise the results of your investigation using a [boxplot](https://en.wikipedia.org/wiki/Box_plot) for each sample size and provide a discussion on which aspects seem to improve as the sample size grows.\n",
    "\n",
    "Your plot should look like this (give or take some small variance):\n",
    "![Reference for Ex2-9](ex2-9-plot.png)\n",
    "\n",
    "\n"
   ]
  },
  {
   "cell_type": "code",
   "execution_count": 225,
   "metadata": {},
   "outputs": [
    {
     "data": {
      "image/png": "[encoded data removed]",
      "text/plain": [
       "<Figure size 648x432 with 1 Axes>"
      ]
     },
     "metadata": {},
     "output_type": "display_data"
    }
   ],
   "source": [
    "# https://matplotlib.org/gallery/pyplots/boxplot_demo_pyplot.html#sphx-glr-gallery-pyplots-boxplot-demo-pyplot-py\n",
    "\n",
    "# number of repetitions\n",
    "repetitions = 100\n",
    "\n",
    "# initialize arrays\n",
    "sample_one = np.zeros(repetitions)\n",
    "sample_ten = np.zeros(repetitions)\n",
    "sample_hun = np.zeros(repetitions)\n",
    "sample_tho = np.zeros(repetitions)\n",
    "\n",
    "# do the experiments\n",
    "for i in range(repetitions):\n",
    "    sample_one[i] = bernoulli_mle(X.sample_n(1))\n",
    "    sample_ten[i] = bernoulli_mle(X.sample_n(10))\n",
    "    sample_hun[i] = bernoulli_mle(X.sample_n(100))\n",
    "    sample_tho[i] = bernoulli_mle(X.sample_n(1000))\n",
    "\n",
    "# create one data matrix for the boxplot\n",
    "data_to_plot = [sample_one, sample_ten, sample_hun, sample_tho]\n",
    "\n",
    "# create a figure instance\n",
    "fig = plt.figure(1, figsize=(9, 6))\n",
    "\n",
    "# create an axes instance\n",
    "ax = fig.add_subplot(111)\n",
    "\n",
    "# create the boxplot\n",
    "bp = ax.boxplot(data_to_plot)\n",
    "\n",
    "ax.set_xticklabels(('1', '10', '100', '1000'))\n",
    "\n",
    "# gives names to the axis\n",
    "plt.ylabel('MLE')\n",
    "plt.xlabel('sample size')\n",
    "\n",
    "# save the figure\n",
    "fig.savefig('fig1.png', bbox_inches='tight')"
   ]
  },
  {
   "cell_type": "markdown",
   "metadata": {},
   "source": [
    "\n",
    "---"
   ]
  },
  {
   "cell_type": "markdown",
   "metadata": {},
   "source": [
    "<a name=\"ex2-10\" style=\"color:red\">**Exercise 2-10**</a> **[8 points]** Now you should extend the Bernoulli case to deal with Categorical random variables, that is \n",
    "\n",
    "1. complete the skeleton class below (2 points in total)\n",
    "    * note this requires completing the sampling procedure (1 point)\n",
    "2. implement the maximum likelihood estimation algorithm (2 points)\n",
    "\n",
    "Also keep in mind that your class is expected to make sure the parameters are *valid* (recall the conditions associated with categorical parameter vectors). \n",
    "\n",
    "To test your representation (1 point):\n",
    "\n",
    "* print the pmf and cdf values for all values the rv can take on (as we did for the Bernoulli example)\n",
    "\n",
    "To test your MLE procedure (3 points): \n",
    "\n",
    "* compute a maximum likelihood estimate using N samples from a Categorical distribution with parameters $[0.1, 0.2, 0.7]$ \n",
    "    * repeat this procedure 1000 times to get the average estimate as well as error estimates: you can get average and error using `np.mean` and `np.std`\n",
    "* plot the average estimate and standard deviation using barplots (with `plt.bar`)\n",
    "    * experiment with N = 1, N = 10, N = 100, and N = 1000\n",
    "* comment on which aspects seem to improve as sample size grows\n",
    "\n",
    "\n",
    "This is all very similar to what was done in the Bernoulli case, but here we replace boxplot by barplots because our Categorical distributions has $k=3$ parameters (not just 1)\n",
    "\n",
    "\n",
    "Hints:\n",
    "\n",
    "* to simulate a categorical random variable you need to generalise the idea shown to you in the case of Bernoulli variables to K segments (rather than 2 segments); in the Bernoulli case we chopped the $[0,1]$ segment into two, namely, $[0, p)$ and $[p, 1]$. If you are not used to the notation $[a,b)$, it means a continuous interval between $a$ (included) and $b$ (excluded), that is, $a \\leq x < b$. Categorical variables defined over K values require K segments chopped like this: $[0, \\theta_1)$, $[\\theta_1, \\theta_1 + \\theta_2)$, $[\\theta_1 + \\theta_2, \\theta_1 + \\theta_2 + \\theta_3)$, and so on till $[\\sum_{i=1}^{K-1} \\theta_i, 1]$. Note how similar this is to the cdf of the categorical variable. \n",
    "* the maximum likelihood estimate of a categorical variable is a vector where each position represents the ratio in which we observe the corresponding value of the random variable, that is `number of time k occurs divided by total number of data points`\n",
    "\n",
    "Important: an alternative way to simulate a categorical variable (which will not be accepted as an aswer to this particular exercise) is to use `np.random.choice` (check its documentation with `np.random.choice?`). \n",
    "\n",
    "Your plot should look like this (give or take some small variance):\n",
    "\n",
    "![Reference for Ex2-10](ex2-10-plot.png)\n",
    "\n",
    "\n"
   ]
  },
  {
   "cell_type": "code",
   "execution_count": 196,
   "metadata": {},
   "outputs": [],
   "source": [
    "# Here we provide you with a sketch that you must complete\n",
    "\n",
    "class Categorical:\n",
    "    \n",
    "    def __init__(self, theta):\n",
    "        \"\"\"\n",
    "            X ~ Categorical(theta_1, ..., theta_K)\n",
    "            where theta is the parameter vector and theta_k is the probability of the kth class\n",
    "            recall that theta_k is bound between 0 and 1 and the sum should be exactly 1\n",
    "        \"\"\"\n",
    "        \n",
    "        if not (sum(theta) == 1):\n",
    "            raise ValueError('The sum of the probabilities must be 1.')\n",
    "            \n",
    "        for k in theta:\n",
    "            if not k > 0:\n",
    "                raise ValueError('All probabilities must be bigger than 0.')\n",
    "                \n",
    "        self.theta = theta\n",
    "        self.k = len(theta)+1\n",
    "        \n",
    "    def sample(self):\n",
    "        \"\"\"Returns a number from 1 to K representing the sampled value\"\"\"\n",
    "        \n",
    "        # random number between 0 and 1\n",
    "        u = np.random.uniform()\n",
    "        \n",
    "        # the start of the range between 0 and 1\n",
    "        theta = 0\n",
    "        \n",
    "        # loop over the number of categories\n",
    "        for i in range(1, self.k):\n",
    "            \n",
    "            # add the probability of the current category\n",
    "            theta += self.theta[i-1]\n",
    "            \n",
    "            # check if the random number is in the range of the current category\n",
    "            if u < theta:\n",
    "                \n",
    "                # return the category\n",
    "                return i\n",
    "        \n",
    "        # if u would be bigger than 1 (this should never happen)\n",
    "        return 0      \n",
    "    \n",
    "    def sample_n(self, N):\n",
    "        \"\"\"Returns a numpy array containing N simulated values\"\"\"\n",
    "        \n",
    "        # take N samples and put them in a nparray\n",
    "        return np.array([self.sample() for _ in range(N)])\n",
    "    \n",
    "    def pmf(self, value):\n",
    "        \"\"\"\n",
    "        Probability mass function evaluated at a certain value\n",
    "        value: an assignment of X\n",
    "        \"\"\"\n",
    "        \n",
    "        # only accept valid value (rounded numbers for 1 to K)\n",
    "        try:\n",
    "            # return the probability of the value\n",
    "            return self.theta[value-1]\n",
    "        except:\n",
    "            raise ValueError('Invalid value')\n",
    "    \n",
    "    def cdf(self, a):\n",
    "        \"\"\"\n",
    "        Cumulative probability function\n",
    "            F_X(a) = \\sum_{x <= a} P(X=x)\n",
    "        a: an assignment of X\n",
    "        returns: total probability over the interval [-inf, a]\n",
    "        \"\"\"\n",
    "        \n",
    "        # the start of the range between 0 and 1\n",
    "        total = 0\n",
    "        \n",
    "        # loop over the number of categories until category a\n",
    "        for i in range(a):\n",
    "            \n",
    "            # add the probability of the category\n",
    "            total += self.theta[i]\n",
    "        \n",
    "        # return the cdf\n",
    "        return total\n",
    "            \n",
    "    def __repr__(self):\n",
    "        \n",
    "        # print the input given to the constructor\n",
    "        return 'Categorical(%s)' % self.theta"
   ]
  },
  {
   "cell_type": "code",
   "execution_count": 177,
   "metadata": {},
   "outputs": [
    {
     "name": "stdout",
     "output_type": "stream",
     "text": [
      "C ~ Categorical([0.1, 0.2, 0.7])\n",
      " P(X=1) = 0.10 F_X(1) = 0.10\n",
      " P(X=2) = 0.20 F_X(2) = 0.30\n",
      " P(X=3) = 0.70 F_X(3) = 1.00\n"
     ]
    }
   ],
   "source": [
    "C = Categorical([0.1, 0.2, 0.7])\n",
    "# 0 - 0.1 - 0.3 - 1\n",
    "print('C ~', C)\n",
    "for x in range(1,4):\n",
    "    print(' P(X=%d) = %.2f F_X(%d) = %.2f' % (x, C.pmf(x), x, C.cdf(x)))"
   ]
  },
  {
   "cell_type": "code",
   "execution_count": 178,
   "metadata": {},
   "outputs": [
    {
     "name": "stdout",
     "output_type": "stream",
     "text": [
      "assignment 3 with probability 0.70\n",
      "assignment 3 with probability 0.70\n",
      "assignment 1 with probability 0.10\n",
      "assignment 3 with probability 0.70\n",
      "assignment 2 with probability 0.20\n",
      "assignment 1 with probability 0.10\n",
      "assignment 3 with probability 0.70\n",
      "assignment 2 with probability 0.20\n",
      "assignment 3 with probability 0.70\n",
      "assignment 3 with probability 0.70\n",
      "assignment 3 with probability 0.70\n",
      "assignment 3 with probability 0.70\n",
      "assignment 3 with probability 0.70\n",
      "assignment 2 with probability 0.20\n",
      "assignment 3 with probability 0.70\n",
      "assignment 3 with probability 0.70\n",
      "assignment 3 with probability 0.70\n",
      "assignment 3 with probability 0.70\n",
      "assignment 3 with probability 0.70\n",
      "assignment 3 with probability 0.70\n"
     ]
    }
   ],
   "source": [
    "for i in range(20):\n",
    "    s = C.sample()\n",
    "    print('assignment {} with probability {:.2f}'.format(s, C.pmf(s)) )"
   ]
  },
  {
   "cell_type": "code",
   "execution_count": 179,
   "metadata": {},
   "outputs": [],
   "source": [
    "# take the N from the bernoulli (1000) for the categorical observations\n",
    "cat_observations = C.sample_n(N)"
   ]
  },
  {
   "cell_type": "code",
   "execution_count": 180,
   "metadata": {},
   "outputs": [
    {
     "data": {
      "image/png": "[encoded data removed]",
      "text/plain": [
       "<Figure size 432x288 with 1 Axes>"
      ]
     },
     "metadata": {},
     "output_type": "display_data"
    }
   ],
   "source": [
    "# plot the observations\n",
    "%matplotlib inline\n",
    "_ = plt.hist(cat_observations)"
   ]
  },
  {
   "cell_type": "code",
   "execution_count": 231,
   "metadata": {},
   "outputs": [],
   "source": [
    "from collections import Counter\n",
    "\n",
    "def cat_mle(observations, k):\n",
    "    \n",
    "    # this is the number of observations we have\n",
    "    N = len(observations)\n",
    "       \n",
    "    # the result array\n",
    "    result = []\n",
    "    \n",
    "    # count occerences of the unique observations\n",
    "    count = Counter(observations)\n",
    "    \n",
    "    # loop over the categories\n",
    "    for cat in range(1, k):\n",
    "        \n",
    "        try:\n",
    "            # append the mle of the category to the result\n",
    "            result.append(count[cat]/N)\n",
    "        except:\n",
    "            # category is not in the list, so the mle is 0\n",
    "            result.append(0)\n",
    "            \n",
    "    # return the result \n",
    "    return result"
   ]
  },
  {
   "cell_type": "code",
   "execution_count": 212,
   "metadata": {},
   "outputs": [
    {
     "data": {
      "text/plain": [
       "[0.099, 0.203, 0.698]"
      ]
     },
     "execution_count": 212,
     "metadata": {},
     "output_type": "execute_result"
    }
   ],
   "source": [
    "cat_mle(cat_observations, C.k)"
   ]
  },
  {
   "cell_type": "code",
   "execution_count": 229,
   "metadata": {},
   "outputs": [],
   "source": [
    "def N_experiments(C, N, experiments):\n",
    "    mles = []\n",
    "    for _ in range(experiments):\n",
    "        observations = C.sample_n(N)\n",
    "        mles.append(cat_mle(observations, C.k))\n",
    "    return np.array(mles)\n",
    "        "
   ]
  },
  {
   "cell_type": "code",
   "execution_count": 241,
   "metadata": {
    "scrolled": true
   },
   "outputs": [],
   "source": [
    "exp = N_experiments(C, 1000, 1000)"
   ]
  },
  {
   "cell_type": "code",
   "execution_count": 243,
   "metadata": {},
   "outputs": [
    {
     "name": "stdout",
     "output_type": "stream",
     "text": [
      "The mean of the observations is: 0.100109\n",
      "The std of the observations is: 0.00933547636706344\n"
     ]
    }
   ],
   "source": [
    "print(\"The mean of the observations is:\", np.mean(exp[:,0]))\n",
    "\n",
    "print(\"The std of the observations is:\", np.std(exp[:,0]))"
   ]
  }
 ],
 "metadata": {
  "kernelspec": {
   "display_name": "Python 3",
   "language": "python",
   "name": "python3"
  },
  "language_info": {
   "codemirror_mode": {
    "name": "ipython",
    "version": 3
   },
   "file_extension": ".py",
   "mimetype": "text/x-python",
   "name": "python",
   "nbconvert_exporter": "python",
   "pygments_lexer": "ipython3",
   "version": "3.6.7"
  }
 },
 "nbformat": 4,
 "nbformat_minor": 2
}
